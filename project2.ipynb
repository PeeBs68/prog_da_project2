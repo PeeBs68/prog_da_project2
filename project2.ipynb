{
 "cells": [
  {
   "cell_type": "markdown",
   "metadata": {},
   "source": [
    "### Notebook for Project2 for Programming for Data Analysis\n",
    "\n",
    "## An analysis of paleo-present climate data"
   ]
  },
  {
   "cell_type": "markdown",
   "metadata": {},
   "source": [
    "***"
   ]
  },
  {
   "cell_type": "markdown",
   "metadata": {},
   "source": [
    "## Table of Contents\n",
    "\n",
    "1. [Introduction](#Introduction)\n",
    "2. "
   ]
  },
  {
   "cell_type": "markdown",
   "metadata": {},
   "source": [
    "### CO2 vs Temperatue Anomaly from 800kyrs - present\n",
    "\n",
    "\n",
    "\n",
    "---"
   ]
  },
  {
   "cell_type": "markdown",
   "metadata": {},
   "source": [
    "### Examine one other feature - CH4 for example\n",
    "\n",
    "\n",
    "\n",
    "---"
   ]
  },
  {
   "cell_type": "markdown",
   "metadata": {},
   "source": [
    "### Examine Irish Context\n",
    "\n",
    "\n",
    "\n",
    "---"
   ]
  },
  {
   "cell_type": "markdown",
   "metadata": {},
   "source": [
    "### Fuse and analysis of data from various data sources and Export to csv and json\n",
    "\n",
    "\n",
    "\n",
    "---"
   ]
  },
  {
   "cell_type": "markdown",
   "metadata": {},
   "source": [
    "### Analysis of all the above data - trends/relationships etc (temporal leads, lags, frequency analysis etc)\n",
    "\n",
    "\n",
    "\n",
    "---"
   ]
  },
  {
   "cell_type": "markdown",
   "metadata": {},
   "source": [
    "### Predict global temperature anomaly over next few decades (synthesise data) and compare to pushed climate modles - if atmospheric CO2 trends continue\n",
    "\n",
    "\n",
    "\n",
    "---"
   ]
  },
  {
   "cell_type": "markdown",
   "metadata": {},
   "source": [
    "### Comment on accellerated warming based on very latest features (e.g temperature/polar-ice-coverage)\n",
    "\n",
    "\n",
    "\n",
    "---"
   ]
  },
  {
   "cell_type": "markdown",
   "metadata": {},
   "source": [
    "### Appendix/References etc"
   ]
  },
  {
   "cell_type": "markdown",
   "metadata": {},
   "source": [
    "***\n",
    "\n",
    "#### End"
   ]
  },
  {
   "cell_type": "markdown",
   "metadata": {},
   "source": [
    "Notes:"
   ]
  },
  {
   "cell_type": "code",
   "execution_count": 3,
   "metadata": {},
   "outputs": [
    {
     "data": {
      "text/plain": [
       "'\\nimport json\\n\\nFILENAME = \"json_text.txt\"\\n\\ndict = {}\\ndict[\"name\"] = input(\"Enter a name: \")\\ndict[\"age\"] = int(input(\"Enter an age: \"))\\nprint (dict)\\n\\n#1 - assume the file exists\\nwith open(FILENAME, \\'wt\\') as f:\\n    json.dump(dict, f)\\n'"
      ]
     },
     "execution_count": 3,
     "metadata": {},
     "output_type": "execute_result"
    }
   ],
   "source": [
    "# json\n",
    "\n",
    "# Reading from a json file\n",
    "'''\n",
    "import json\n",
    "\n",
    "FILENAME = \"json_text.txt\"\n",
    "\n",
    "with open(FILENAME, 'rt') as f:\n",
    "    dict = json.load(f)\n",
    "\n",
    "print (dict[\"name\"], dict [\"age\"])\n",
    "\n",
    "print (dict)\n",
    "'''\n",
    "\n",
    "\n",
    "# Writing to a json file\n",
    "'''\n",
    "import json\n",
    "\n",
    "FILENAME = \"json_text.txt\"\n",
    "\n",
    "dict = {}\n",
    "dict[\"name\"] = input(\"Enter a name: \")\n",
    "dict[\"age\"] = int(input(\"Enter an age: \"))\n",
    "print (dict)\n",
    "\n",
    "#1 - assume the file exists\n",
    "with open(FILENAME, 'wt') as f:\n",
    "    json.dump(dict, f)\n",
    "'''"
   ]
  }
 ],
 "metadata": {
  "kernelspec": {
   "display_name": "base",
   "language": "python",
   "name": "python3"
  },
  "language_info": {
   "codemirror_mode": {
    "name": "ipython",
    "version": 3
   },
   "file_extension": ".py",
   "mimetype": "text/x-python",
   "name": "python",
   "nbconvert_exporter": "python",
   "pygments_lexer": "ipython3",
   "version": "3.11.4"
  }
 },
 "nbformat": 4,
 "nbformat_minor": 2
}
